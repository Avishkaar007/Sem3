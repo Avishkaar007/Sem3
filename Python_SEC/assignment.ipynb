{
 "cells": [
  {
   "cell_type": "code",
   "execution_count": 54,
   "metadata": {},
   "outputs": [
    {
     "name": "stdout",
     "output_type": "stream",
     "text": [
      "6.0  and  4.0\n"
     ]
    }
   ],
   "source": [
    "# Question 1\n",
    "\n",
    "# 1. Write a program that prompts the user to enter the coefficients a, b and c from the\n",
    "# quadratic equation ax 2 + bx + c = 0 and calculates the two real roots of the equation.\n",
    "# You may assume that the user enters values of a, b and c that lead to the equation\n",
    "# having two distinct real roots, namely, the user will enter values such that b 2 &gt; 4ac,\n",
    "# and a will not equal 0. (1.5)\n",
    "\n",
    "from math import *\n",
    "\n",
    "def quadratic(a,b,c):\n",
    "    assert ((a>0) and ((b*b-(4*a*c))>0)),\"No real Roots \"\n",
    "    return [  ((b+sqrt(b*b - 4*a*c) )/2*a )  ,((b-sqrt(b*b - 4*a*c) )/2*a) ]\n",
    "\n",
    "def inp():\n",
    "    a=float(input(\"Enter a : \"))\n",
    "    b=float(input(\"Enter b : \"))\n",
    "    c=float(input(\"Enter c : \"))\n",
    "\n",
    "    print(quadratic(a,b,c)[0],\" and \",quadratic(a,b,c)[1])\n",
    "\n",
    "inp()\n"
   ]
  },
  {
   "cell_type": "code",
   "execution_count": 10,
   "metadata": {},
   "outputs": [
    {
     "name": "stdout",
     "output_type": "stream",
     "text": [
      "Perimeter=  31.4159  units \n",
      "Area=  78.53975  sq units\n"
     ]
    }
   ],
   "source": [
    "#Question 2\n",
    "\n",
    "# Write a program that prompts the user for the radius of a circle and calculates the area\n",
    "# and perimeter of that circle and prints it out.\n",
    "\n",
    "\n",
    "radius=float(input(\"Enter Radius : \"))\n",
    "area=3.14159*(radius*radius)\n",
    "perimeter=6.28318*radius\n",
    "print(\"Perimeter= \",perimeter,\" units \\nArea= \",area,\" sq units\")\n"
   ]
  },
  {
   "cell_type": "code",
   "execution_count": 47,
   "metadata": {},
   "outputs": [
    {
     "name": "stdout",
     "output_type": "stream",
     "text": [
      "\n",
      "5 4 3 2 1 \n",
      "4 3 2 1 \n",
      "3 2 1 \n",
      "2 1 \n",
      "1 "
     ]
    }
   ],
   "source": [
    "#Question 3\n",
    "\n",
    "# Write a program to use for loop to print the following reverse number pattern (1.5)\n",
    "# 5 4 3 2 1\n",
    "# 4 3 2 1\n",
    "# 3 2 1\n",
    "# 2 1\n",
    "# 1\n",
    "\n",
    "for x in range(5,0,-1):\n",
    "    print()\n",
    "    for y in range(x,0,-1):print(y,end=\" \")\n",
    "\n"
   ]
  },
  {
   "cell_type": "code",
   "execution_count": 53,
   "metadata": {},
   "outputs": [
    {
     "name": "stdout",
     "output_type": "stream",
     "text": [
      "\n",
      "* \n",
      "* * \n",
      "* * * \n",
      "* * * * \n",
      "* * * * * \n",
      "* * * * \n",
      "* * * \n",
      "* * \n",
      "* \n"
     ]
    }
   ],
   "source": [
    "#Question 4\n",
    "\n",
    "# Write a program to print the following start pattern using the for loop (1.5)\n",
    "# *\n",
    "# * *\n",
    "# * * *\n",
    "# * * * *\n",
    "# * * * * *\n",
    "# * * * *\n",
    "# * * *\n",
    "# * *\n",
    "# *\n",
    "\n",
    "for x in range(5):\n",
    "    for y in range(x):\n",
    "        print(\"*\",end=\" \")\n",
    "    print()\n",
    "for x in range(5,0,-1):\n",
    "    for y in range(x,0,-1):\n",
    "        print(\"*\",end=\" \")\n",
    "    print()"
   ]
  },
  {
   "cell_type": "code",
   "execution_count": null,
   "metadata": {},
   "outputs": [],
   "source": [
    "# Question 5\n",
    "# Explain all the functions which is applied on ( 2 + 2 = 4)\n",
    "# a. List\n",
    "# b. String\n",
    "\n"
   ]
  },
  {
   "cell_type": "markdown",
   "metadata": {},
   "source": [
    "###    List    ####\n",
    "append()\tAdds an element at the end of the list\n",
    "clear()\t    Removes all the elements from the list\n",
    "copy()\t    Returns a copy of the list\n",
    "count() \tReturns the number of elements with the specified value\n",
    "extend()\tAdd the elements of a list (or any iterable), to the end of the current list\n",
    "index()\t    Returns the index of the first element with the specified value\n",
    "insert()\tAdds an element at the specified position\n",
    "pop()\t    Removes the element at the specified position\n",
    "remove()\tRemoves the first item with the specified value\n",
    "reverse()\tReverses the order of the list\n",
    "sort()\t    Sorts the list\n",
    "\n",
    "\n",
    "###   STRING   ###\n",
    "capitalize()\tConverts the first character to upper case\n",
    "casefold()\t    Converts string into lower case\n",
    "center()\t    Returns a centered string\n",
    "count()     \tReturns the number of times a specified value occurs in a string\n",
    "encode()\t    Returns an encoded version of the string\n",
    "endswith()\t    Returns true if the string ends with the specified value\n",
    "expandtabs()\tSets the tab size of the string\n",
    "find()      \tSearches the string for a specified value and returns the position of where it was found\n",
    "format()\t    Formats specified values in a string\n",
    "format_map()\tFormats specified values in a string\n",
    "index()     \tSearches the string for a specified value and returns the position of where it was found\n",
    "isalnum()\t    Returns True if all characters in the string are alphanumeric\n",
    "isalpha()\t    Returns True if all characters in the string are in the alphabet\n",
    "isascii()   \tReturns True if all characters in the string are ascii characters\n",
    "isdecimal()\t    Returns True if all characters in the string are decimals\n",
    "isdigit()\t    Returns True if all characters in the string are digits\n",
    "isidentifier()\tReturns True if the string is an identifier\n",
    "islower()   \tReturns True if all characters in the string are lower case\n",
    "isnumeric()\t    Returns True if all characters in the string are numeric\n",
    "isprintable()\tReturns True if all characters in the string are printable\n",
    "isspace()\t    Returns True if all characters in the string are whitespaces\n",
    "istitle()\t    Returns True if the string follows the rules of a title\n",
    "isupper()\t    Returns True if all characters in the string are upper case\n",
    "join()\t        Converts the elements of an iterable into a string\n",
    "ljust()\t        Returns a left justified version of the string\n",
    "lower()\t        Converts a string into lower case\n",
    "lstrip()\t    Returns a left trim version of the string\n",
    "maketrans()\t    Returns a translation table to be used in translations\n",
    "partition()\t    Returns a tuple where the string is parted into three parts\n",
    "replace()\t    Returns a string where a specified value is replaced with a specified value\n",
    "rfind()\t        Searches the string for a specified value and returns the last position of where it was found\n",
    "rindex()    \tSearches the string for a specified value and returns the last position of where it was found\n",
    "rjust()\t        Returns a right justified version of the string\n",
    "rpartition()\tReturns a tuple where the string is parted into three parts\n",
    "rsplit()\t    Splits the string at the specified separator, and returns a list\n",
    "rstrip()\t    Returns a right trim version of the string\n",
    "split()\t        Splits the string at the specified separator, and returns a list\n",
    "splitlines()\tSplits the string at line breaks and returns a list\n",
    "startswith()\tReturns true if the string starts with the specified value\n",
    "strip()\t        Returns a trimmed version of the string\n",
    "swapcase()\t    Swaps cases, lower case becomes upper case and vice versa\n",
    "title()     \tConverts the first character of each word to upper case\n",
    "translate()\t    Returns a translated string\n",
    "upper()\t        Converts a string into upper case\n",
    "zfill()\t        Fills the string with a specified number of 0 values at the beginning\n",
    "\n"
   ]
  }
 ],
 "metadata": {
  "kernelspec": {
   "display_name": "Python 3.6.3 64-bit",
   "language": "python",
   "name": "python3"
  },
  "language_info": {
   "codemirror_mode": {
    "name": "ipython",
    "version": 3
   },
   "file_extension": ".py",
   "mimetype": "text/x-python",
   "name": "python",
   "nbconvert_exporter": "python",
   "pygments_lexer": "ipython3",
   "version": "3.6.3"
  },
  "orig_nbformat": 4,
  "vscode": {
   "interpreter": {
    "hash": "4da5646c2801539fa3b31a53052624c1eefec2d6add4c3fb9f9c6d7999d988b2"
   }
  }
 },
 "nbformat": 4,
 "nbformat_minor": 2
}
