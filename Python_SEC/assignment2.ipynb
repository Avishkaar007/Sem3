{
 "cells": [
  {
   "cell_type": "code",
   "execution_count": 19,
   "metadata": {},
   "outputs": [
    {
     "name": "stdout",
     "output_type": "stream",
     "text": [
      "Students with second lowest score :\n",
      "['Charlie', 'D']\n",
      "['Gamma', 'D']\n"
     ]
    }
   ],
   "source": [
    "# Question 1\n",
    "# Given the names and grades for each student in a class of students, store them in a\n",
    "# nested list and print the name(s) of any student(s) having the second lowest grade.\n",
    "# Note: If there are multiple students with the second lowest grade, order their names\n",
    "# # alphabetically and print each name on a new line.\n",
    "\n",
    "students = [\"Alpha\", \"Bravo\", \"Charlie\", \"Delta\", \"Gamma\", \"Hamilton\"]\n",
    "grades = [\"C\", \"B\", \"D\", \"A\", \"D\", \"E\"]\n",
    "nlst = []\n",
    "for a in range(len(grades)):\n",
    "    nlst.append([students[a], grades[a]])\n",
    "\n",
    "\n",
    "def second_lowest(lst):\n",
    "    ls = []\n",
    "    g = []\n",
    "    for a in lst:\n",
    "        g.append(a[1])\n",
    "\n",
    "    g.sort(reverse=True)\n",
    "    print(\"Students with second lowest score :\")\n",
    "    for b in lst:\n",
    "\n",
    "        if b[1] == g[1]:\n",
    "            print(b)\n",
    "\n",
    "\n",
    "second_lowest(nlst)\n"
   ]
  },
  {
   "cell_type": "code",
   "execution_count": 29,
   "metadata": {},
   "outputs": [
    {
     "name": "stdout",
     "output_type": "stream",
     "text": [
      "a(3)p(3)le pie mango(2) pie coc(2)o powder co(4)l\n"
     ]
    }
   ],
   "source": [
    "# Question 2\n",
    "\n",
    "# You are given a string S. Suppose a character 'c' occurs consecutively X times in the\n",
    "# string. Replace these consecutive occurrences of the character 'c' with (X, c) in the string.\n",
    "\n",
    "\n",
    "string = \"aaappple pie mangoo pie cocco powder cooool\"\n",
    "\n",
    "# I will ignore just print 'c' in case X==1\n",
    "def charXc(string):\n",
    "    string1 = \"\"+string[0]\n",
    "    curr = 0\n",
    "    while curr < (len(string) - 1):\n",
    "        X = 1\n",
    "        while (string[curr] == string[curr + 1]):\n",
    "            X += 1\n",
    "            if (curr + 1) == len(string):\n",
    "                break\n",
    "            curr += 1\n",
    "        if X>1:\n",
    "            string1 += \"(\"+ str(X) + \")\"\n",
    "            continue\n",
    "        if (X == 1) :\n",
    "        \n",
    "            string1 += string[curr+1]\n",
    "            curr += 1\n",
    "    print(string1)\n",
    "\n",
    "\n",
    "charXc(string)"
   ]
  },
  {
   "cell_type": "code",
   "execution_count": 33,
   "metadata": {},
   "outputs": [
    {
     "name": "stdout",
     "output_type": "stream",
     "text": [
      "Alternative Lines copied Successfully\n"
     ]
    }
   ],
   "source": [
    "# Question 3\n",
    "\n",
    "# Write a program that takes two file names, file1 and file2 as input. The program should\n",
    "# read the contents of file1 line by line and should write them to file2, adding a newline at\n",
    "# the end of each line. Note: You are required to handle all the possible exceptions. (7\n",
    "# marks)\n",
    "\n",
    "\n",
    "try:\n",
    "    \n",
    "    file1=open(\"a2_1.txt\",\"w\")\n",
    "    file1.write(\"This is random text I am typing in midnight\\nLine2\\nLin3\\nLine4\\nLine5\")\n",
    "    file1.flush()\n",
    "    file1.close()\n",
    "    file1=open(\"a2_1.txt\",\"r\")\n",
    "    f=file1.readlines()\n",
    "    file2=open(\"a2_2.txt\",\"w\")\n",
    "    data=[f[x]+\"\\n\" for x in range(0,len(f)) ]\n",
    "    file2.writelines(data)\n",
    "    \n",
    "    file2.flush()\n",
    "    file2.close()\n",
    "    \n",
    "    \n",
    "    print(\"Alternative Lines copied Successfully\")\n",
    "except:\n",
    "    print(\"Error Occured\")\n",
    "\n",
    "\n"
   ]
  },
  {
   "cell_type": "code",
   "execution_count": 46,
   "metadata": {},
   "outputs": [
    {
     "name": "stdout",
     "output_type": "stream",
     "text": [
      "lst2 :  [1, 3, 5, 7, 9]\n",
      "---------------------------------------\n",
      "Second Largest elements from a tuple myTup :  40\n",
      "---------------------------------------\n",
      "apple\n",
      "cherry\n",
      "---------------------------------------\n",
      "sentence\n",
      "holds\n",
      "significance\n",
      "apples\n",
      "aren't\n",
      "spacecraft's\n"
     ]
    }
   ],
   "source": [
    "# QUESTION 4\n",
    "# . Write statement(s) to:\n",
    "# a. create a new list lst2 from an existing list lst1 copying only the odd indexed\n",
    "# elements.\n",
    "# b. determine the second largest element from a tuple myTup.\n",
    "# c. display names of only 'red' coloured fruits, given the dictionary:\n",
    "# fruits = {'apple': 'red', 'mango': 'yellow', 'orange': 'orange', 'cherry': 'red'}.\n",
    "# d. display only those words of a sentence that have five or more characters.\n",
    "\n",
    "#a.\n",
    "lst1=[1,2,3,4,5,6,7,8,9]\n",
    "lst2=[y:=lst1[x] for x in range(0,len(lst1),2) ]\n",
    "print(\"lst2 : \",lst2)\n",
    "print(\"---------------------------------------\")\n",
    "#b.\n",
    "myTup=(13,10,40,2,87,9)\n",
    "myTup=list(myTup)\n",
    "myTup.sort()\n",
    "myTup=tuple(myTup)\n",
    "print(\"Second Largest elements from a tuple myTup : \",myTup[-2])\n",
    "print(\"---------------------------------------\")\n",
    "\n",
    "#c.\n",
    "fruits = {'apple': 'red', 'mango': 'yellow', 'orange': 'orange', 'cherry': 'red'}\n",
    "\n",
    "for a in fruits:\n",
    "    if \"red\"==fruits[a]:\n",
    "        print(a)\n",
    "print(\"---------------------------------------\")\n",
    "\n",
    "\n",
    "#d.\n",
    "sentence=\"This is a demo sentence and holds no significance as apples aren't spacecraft's\"\n",
    "sentence=sentence.split(\" \")\n",
    "for b in sentence:\n",
    "    if len(b)>4:\n",
    "        print(b)"
   ]
  },
  {
   "cell_type": "code",
   "execution_count": 5,
   "metadata": {},
   "outputs": [
    {
     "name": "stdout",
     "output_type": "stream",
     "text": [
      "B\n"
     ]
    }
   ],
   "source": [
    "# Question 5\n",
    "#  Define a class Student that keeps a record of students. The class should contain the\n",
    "# following:\n",
    "# Note: marks should lie between 0 and 100.\n",
    "# data members for every student: Name, Class, rollNo, marks1, marks2, and marks3.\n",
    "# function members:\n",
    "# a. __init__ method to initialize the members\n",
    "# b. function grade, that returns the grade of the student according to the following criteria:\n",
    "\n",
    "# A : if percentage >= 90\n",
    "# B : if percentage >= 70 and < 90\n",
    "# C : if percentage < 70\n",
    "\n",
    "# 6. Create an object S1 of this class with name Ashish of B.A. (Prog.) Sem I having roll no as\n",
    "# 123 and marks in three subjects as 93, 67, 70.\n",
    "# 7. Display the grade of the student created in part (i).\n",
    "\n",
    "\n",
    "\n",
    "\n",
    "class Student():\n",
    "    def __init__(self):\n",
    "        self.Name=\"NoName\"\n",
    "        self.Class=\"NoClass\"\n",
    "        self.rollNo=\"0\"\n",
    "        self.marks1=0\n",
    "        self.marks2=0\n",
    "        self.marks3=0\n",
    "        \n",
    "    def __init__(self,Name,Class,rollNo,marks1,marks2,marks3):\n",
    "        for b in [marks1,marks2,marks3]:\n",
    "            if not (0<=b<=100) :\n",
    "                raise Exception(\"marks must be in range 0 to 100\")\n",
    "        self.Name=Name\n",
    "        self.Class=Class\n",
    "        self.rollNo=rollNo\n",
    "        self.marks1=marks1\n",
    "        self.marks2=marks2\n",
    "        self.marks3=marks3\n",
    "    def grade(self):\n",
    "        percentage=(self.marks1 + self.marks2 + self.marks3)/3\n",
    "        if percentage>=90:\n",
    "            return \"A\"\n",
    "        elif 90>percentage>=70:\n",
    "            return \"B\"\n",
    "        else :\n",
    "            return \"C\"\n",
    "\n",
    "stu1=Student(\"Ashish\",\"B.A.(prog)\",\"123\",93,67,70)\n",
    "print(stu1.grade())"
   ]
  }
 ],
 "metadata": {
  "kernelspec": {
   "display_name": "Python 3.10.7 64-bit",
   "language": "python",
   "name": "python3"
  },
  "language_info": {
   "codemirror_mode": {
    "name": "ipython",
    "version": 3
   },
   "file_extension": ".py",
   "mimetype": "text/x-python",
   "name": "python",
   "nbconvert_exporter": "python",
   "pygments_lexer": "ipython3",
   "version": "3.10.7"
  },
  "orig_nbformat": 4,
  "vscode": {
   "interpreter": {
    "hash": "63963b3f4c440940f0b94a3100916033a226cb4f45979123153792d60aa56d6a"
   }
  }
 },
 "nbformat": 4,
 "nbformat_minor": 2
}
