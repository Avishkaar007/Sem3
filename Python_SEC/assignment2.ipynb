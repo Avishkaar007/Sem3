{
 "cells": [
  {
   "cell_type": "code",
   "execution_count": null,
   "metadata": {},
   "outputs": [
    {
     "ename": "",
     "evalue": "",
     "output_type": "error",
     "traceback": [
      "\u001b[1;31mFailed to start the Kernel. \n",
      "\u001b[1;31mAttributeError: module 'IPython.utils.io' has no attribute 'rprint'. \n",
      "\u001b[1;31mView Jupyter <a href='command:jupyter.viewOutput'>log</a> for further details."
     ]
    }
   ],
   "source": [
    "# Question 1\n",
    "#  Given the names and grades for each student in a class of students, store them in a\n",
    "# nested list and print the name(s) of any student(s) having the second lowest grade.\n",
    "# Note: If there are multiple students with the second lowest grade, order their names\n",
    "# alphabetically and print each name on a new line.\n",
    "\n",
    "students=[\"Amar\",\"Bishop\",\"Charlie\",\"Dexter\"]\n",
    "grades=[\"C\",\"B\",\"A\",\"D\"]\n",
    "lst=[]\n",
    "for x,y in students,grades:\n",
    "    lst.append([x,y])\n",
    "print(lst)"
   ]
  }
 ],
 "metadata": {
  "kernelspec": {
   "display_name": "Python 3",
   "language": "python",
   "name": "python3"
  },
  "language_info": {
   "name": "python",
   "version": "3.8.10 (default, Jun 22 2022, 20:18:18) \n[GCC 9.4.0]"
  },
  "orig_nbformat": 4,
  "vscode": {
   "interpreter": {
    "hash": "31f2aee4e71d21fbe5cf8b01ff0e069b9275f58929596ceb00d14d90e3e16cd6"
   }
  }
 },
 "nbformat": 4,
 "nbformat_minor": 2
}
